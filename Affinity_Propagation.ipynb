{
 "cells": [
  {
   "attachments": {},
   "cell_type": "markdown",
   "metadata": {},
   "source": [
    "### Important Links for Affinity Propagation Clustering\n",
    "1. [Algorithms breakdown ](https://www.ritchievink.com/blog/2018/05/18/algorithm-breakdown-affinity-propagation/)\n",
    "2. [Affinity Propagation Clustering](https://towardsdatascience.com/unsupervised-machine-learning-affinity-propagation-algorithm-explained-d1fef85f22c8)\n"
   ]
  },
  {
   "attachments": {},
   "cell_type": "markdown",
   "metadata": {},
   "source": [
    "\n",
    "### Responsibility matrix\n",
    "$$\n",
    "    R_{i,k} = S_{i,k} - \\max_{k' \\neq k} \\left( S_{i,k'} + A_{i,k'} \\right)\n",
    "$$\n",
    "where $s_{i,k}$ is the similarity between points $i$ and $k$ and $a_{i,k}$ is the availability of point $i$ to be exemplar of cluster $k$.\n",
    "\n",
    "### Availability matrix\n",
    "This have two cases:\n",
    "1. If $i$ equals $k$:\n",
    "$$\n",
    "    A_{i,k} = \\sum_{i' \\neq k} \\max \\left( 0, R_{i',k} \\right)\n",
    "$$\n",
    "\n",
    "2. If $i$ not equals $k$:\n",
    "$$\n",
    "    A_{i,k} = \\min \\left( 0, R_{k,k} + \\sum_{i' \\notin \\{i,k\\}} \\max \\left( 0, R_{i',k} \\right) \\right)\n",
    "$$\n",
    "\n",
    "### Final updation formula for responsibility and availability matrix (Damping Factor) :\n",
    "Computing responsibilities and availabilities according to simple update rules will often lead to oscillations caused by ```overshooting``` the solution, so the responsibility and availability messages are ```damped``` by a factor $\\lambda$ in each iteration. The damping factor $\\lambda$ is used to avoid the oscillation of the algorithm. The algorithm will be more stable if we use a damping factor $\\lambda$ between 0.5 and 1.0. The default value of $\\lambda$ is 0.5.\n",
    "\n",
    "$$\n",
    "    A_{i,k}^{(curr)} = \\lambda A_{i,k}^{(prev)} + (1-\\lambda) A_{i,k}^{(curr')}\n",
    "$$\n",
    "$$\n",
    "    R_{i,k}^{(curr)} = \\lambda R_{i,k}^{(prev)} + (1-\\lambda) R_{i,k}^{(curr')}\n",
    "$$\n",
    "\n",
    "Where,\n",
    "1. $\\lambda$ is the damping factor.\n",
    "2. $A_{i,k}^{(prev)}$ is the availability of point $i$ to be exemplar of cluster $k$ in the previous iteration.\n",
    "3. $R_{i,k}^{(prev)}$ is the responsibility of point $i$ to be exemplar of cluster $k$ in the previous iteration.\n",
    "4. $A_{i,k}^{(curr)}$ is the availability of point $i$ to be exemplar of cluster $k$ in the current iteration.\n",
    "5. $R_{i,k}^{(curr)}$ is the responsibility of point $i$ to be exemplar of cluster $k$ in the current iteration.\n",
    "6. $A_{i,k}^{(curr')}$ is the availability of point $i$ to be exemplar of cluster $k$ in the current iteration according to the simple update rules.\n",
    "7. $R_{i,k}^{(curr')}$ is the responsibility of point $i$ to be exemplar of cluster $k$ in the current iteration according to the simple update rules.\n",
    "\n",
    "\n",
    "### Algorithm for Affinity Propagation Clustering (APC):\n",
    "- Initialize $S_{i,k}$ to the similarity between points $i$ and $k$.\n",
    "- Initialize $A_{i,k}$ and $R_{i,k}$ to 0.\n",
    "- Repeat until convergence:\n",
    "    - Update $A_{i,k}$ using the formula above.\n",
    "    - Update $R_{i,k}$ using the formula above.\n",
    "- Then we get a criterion matrix $R_{i,k} + A_{i,k}$, where the maximum value in each row is the exemplar of the cluster.\n",
    "- The rows with same exemplar are in the same cluster.\n",
    "\n",
    "### What is the best example that can show us ossilation of the algorithm?\n",
    "The best example is when we have a dataset with only two points . In this case, the algorithm will oscillate between two clusters.\n",
    "\n",
    "### Convergence:\n",
    "The algorithm will converge when the number of clusters will not change anymore.\n",
    "\n"
   ]
  },
  {
   "cell_type": "code",
   "execution_count": 1,
   "metadata": {},
   "outputs": [],
   "source": [
    "import numpy as np\n",
    "import matplotlib.pyplot as plt\n",
    "import seaborn as sns\n",
    "import pandas as pd\n",
    "sns.set()"
   ]
  },
  {
   "cell_type": "code",
   "execution_count": 2,
   "metadata": {},
   "outputs": [
    {
     "name": "stdout",
     "output_type": "stream",
     "text": [
      "<class 'pandas.core.frame.DataFrame'>\n",
      "<class 'numpy.ndarray'>\n"
     ]
    },
    {
     "data": {
      "image/png": "[encoded data removed]",
      "text/plain": [
       "<Figure size 640x480 with 1 Axes>"
      ]
     },
     "metadata": {},
     "output_type": "display_data"
    }
   ],
   "source": [
    "dict = {\n",
    "    'x':[12, 20, 28, 18, 29, 33, 24, 45, 45, 52, 51, 52, 55, 53, 55, 61, 64, 69, 72,25, 28, 14, 18, 7, 27, 26, 85, 71, 70, 72, 81, 82, 87, 84, 89, 85, 92, 90],\n",
    "    'y':[39, 36, 30, 52, 54, 46, 55, 59, 63, 70, 66, 63, 58, 23, 14, 8, 19, 7, 24, 77, 71, 42, 55, 56, 60, 53, 59, 14, 15, 8, 19, 7, 24, 4, 13, 80, 90, 95]\n",
    "}\n",
    "\n",
    "df = pd.DataFrame(dict, columns=['x', 'y'])\n",
    "print(type(df))\n",
    "data = df.values\n",
    "print(type(data))\n",
    "plt.scatter(data[:, 0], data[:, 1])\n",
    "plt.show()"
   ]
  },
  {
   "cell_type": "code",
   "execution_count": 1,
   "metadata": {},
   "outputs": [],
   "source": [
    "class Affinity:\n",
    "    def __init__(self, data, preference=-50, max_iter=200, convergence_iter=15, damping=0.5):\n",
    "        self.data = data\n",
    "        self.preference = preference\n",
    "        self.max_iter = max_iter\n",
    "        self.convergence_iter = convergence_iter\n",
    "        self.damping = damping\n",
    "        \n",
    "    def fit(self):\n",
    "        self.n_samples = self.data.shape[0]\n",
    "        # Similarity Matrix\n",
    "        self.similarity = np.zeros((self.n_samples, self.n_samples))\n",
    "        for i in range(self.n_samples):\n",
    "            for j in range(i, self.n_samples):\n",
    "                if i == j:\n",
    "                    self.similarity[i, j] = self.preference\n",
    "                else:\n",
    "                    self.similarity[i, j] = -np.square(np.linalg.norm(self.data[i] - self.data[j]))\n",
    "                    self.similarity[j, i] = self.similarity[i, j]\n",
    "                    \n",
    "        # Responsibility and Availability Matrix\n",
    "        self.responsibility = np.zeros((self.n_samples, self.n_samples))\n",
    "        self.availability = np.zeros((self.n_samples, self.n_samples))\n",
    "        self.cluster_centers_indices = None\n",
    "        self.labels_ = None\n",
    "        self.cluster_centers_ = None\n",
    "        self.n_iter_ = 0\n",
    "        self.affinity_propagation()\n",
    "        \n",
    "        def affinity_propagation(self):\n",
    "            for self.n_iter_ in range(self.max_iter):\n",
    "                # Update Responsibility\n",
    "                R = self.responsibility\n",
    "                A = self.availability\n",
    "                S = self.similarity\n",
    "                \n",
    "                old_R = np.copy(R)\n",
    "                for i in range(self.n_samples):\n",
    "                    for j in range(self.n_samples):\n",
    "                        sum = np.sum\n",
    "                \n",
    "                \n",
    "               \n"
   ]
  }
 ],
 "metadata": {
  "kernelspec": {
   "display_name": "Python 3",
   "language": "python",
   "name": "python3"
  },
  "language_info": {
   "codemirror_mode": {
    "name": "ipython",
    "version": 3
   },
   "file_extension": ".py",
   "mimetype": "text/x-python",
   "name": "python",
   "nbconvert_exporter": "python",
   "pygments_lexer": "ipython3",
   "version": "3.10.6"
  },
  "orig_nbformat": 4,
  "vscode": {
   "interpreter": {
    "hash": "916dbcbb3f70747c44a77c7bcd40155683ae19c65e1c03b4aa3499c5328201f1"
   }
  }
 },
 "nbformat": 4,
 "nbformat_minor": 2
}
