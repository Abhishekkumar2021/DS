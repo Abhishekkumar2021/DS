{
 "cells": [
  {
   "cell_type": "code",
   "execution_count": 1,
   "metadata": {},
   "outputs": [],
   "source": [
    "import numpy as np"
   ]
  },
  {
   "cell_type": "code",
   "execution_count": 2,
   "metadata": {},
   "outputs": [
    {
     "name": "stdout",
     "output_type": "stream",
     "text": [
      "[1 2 3 4 5]\n",
      "<class 'numpy.ndarray'>\n"
     ]
    }
   ],
   "source": [
    "arr = np.array([1, 2, 3, 4, 5])\n",
    "print(arr)\n",
    "print(type(arr))"
   ]
  },
  {
   "cell_type": "code",
   "execution_count": 3,
   "metadata": {},
   "outputs": [
    {
     "name": "stdout",
     "output_type": "stream",
     "text": [
      "Square root of array is:  [1.         1.41421356 1.73205081 2.         2.23606798]\n",
      "Cosine of array is:  [ 0.54030231 -0.41614684 -0.9899925  -0.65364362  0.28366219]\n",
      "Sine of array is:  [ 0.84147098  0.90929743  0.14112001 -0.7568025  -0.95892427]\n",
      "Exponential of array is:  [  2.71828183   7.3890561   20.08553692  54.59815003 148.4131591 ]\n",
      "Floor of array is:  [1. 2. 3. 4. 5.]\n"
     ]
    }
   ],
   "source": [
    "sqrt = np.sqrt(arr)\n",
    "print(\"Square root of array is: \", sqrt)\n",
    "\n",
    "cos = np.cos(arr)\n",
    "print(\"Cosine of array is: \", cos)\n",
    "\n",
    "sin = np.sin(arr)\n",
    "print(\"Sine of array is: \", sin)\n",
    "\n",
    "exp = np.exp(arr)\n",
    "print(\"Exponential of array is: \", exp)\n",
    "\n",
    "\n",
    "floor = np.floor(arr)\n",
    "print(\"Floor of array is: \", floor)"
   ]
  },
  {
   "cell_type": "code",
   "execution_count": 4,
   "metadata": {},
   "outputs": [
    {
     "name": "stdout",
     "output_type": "stream",
     "text": [
      "[[1 2]\n",
      " [3 4]\n",
      " [5 6]]\n"
     ]
    }
   ],
   "source": [
    "# Shape manipulation\n",
    "new_cyclist_trials = np.array([[1, 2, 3], [4, 5, 6]])\n",
    "\n",
    "new_cyclist_trials.ravel()\n",
    "\n",
    "new_cyclist_trials = new_cyclist_trials.reshape(3, 2)\n",
    "\n",
    "print(new_cyclist_trials)\n"
   ]
  },
  {
   "cell_type": "code",
   "execution_count": 5,
   "metadata": {},
   "outputs": [
    {
     "name": "stdout",
     "output_type": "stream",
     "text": [
      "[ 0  1  2  3  4  5  6  7  8  9 10 11]\n",
      "[[ 0  1  2  3]\n",
      " [ 4  5  6  7]\n",
      " [ 8  9 10 11]]\n",
      "[[0. 0. 0. 0.]\n",
      " [0. 0. 0. 0.]\n",
      " [0. 0. 0. 0.]]\n",
      "[[1. 1. 1. 1.]\n",
      " [1. 1. 1. 1.]\n",
      " [1. 1. 1. 1.]]\n",
      "[0.   0.25 0.5  0.75 1.   1.25 1.5  1.75 2.  ]\n"
     ]
    }
   ],
   "source": [
    "one_d_array = np.arange(12)\n",
    "\n",
    "print(one_d_array)\n",
    "\n",
    "one_d_array = one_d_array.reshape(3, 4)\n",
    "\n",
    "print(one_d_array)\n",
    "\n",
    "zeros_array = np.zeros((3, 4))\n",
    "\n",
    "print(zeros_array)\n",
    "\n",
    "ones_array = np.ones((3, 4))\n",
    "\n",
    "print(ones_array)\n",
    "\n",
    "linspace_array = np.linspace(0, 2, 9)\n",
    "\n",
    "print(linspace_array)"
   ]
  },
  {
   "cell_type": "code",
   "execution_count": 6,
   "metadata": {},
   "outputs": [
    {
     "name": "stdout",
     "output_type": "stream",
     "text": [
      "Shape:  (2, 3)\n",
      "Dimension:  2\n",
      "Size:  6\n",
      "Type:  int64\n",
      "Item size:  8\n"
     ]
    }
   ],
   "source": [
    "ndarray = np.array([[1, 2, 3], [4, 5, 6]])\n",
    "print(\"Shape: \", ndarray.shape)\n",
    "print(\"Dimension: \", ndarray.ndim)\n",
    "print(\"Size: \", ndarray.size)\n",
    "print(\"Type: \", ndarray.dtype)\n",
    "print(\"Item size: \", ndarray.itemsize)"
   ]
  },
  {
   "cell_type": "code",
   "execution_count": 7,
   "metadata": {},
   "outputs": [
    {
     "name": "stdout",
     "output_type": "stream",
     "text": [
      "Addition:  [[3 1]\n",
      " [3 5]]\n",
      "Subtraction:  [[-1  1]\n",
      " [-3 -3]]\n",
      "[[3 1]\n",
      " [3 5]]\n",
      "[[-1  1]\n",
      " [-3 -3]]\n",
      "[[2 0]\n",
      " [0 4]]\n",
      "[[1 1]\n",
      " [0 1]]\n",
      "[[1 1]\n",
      " [0 1]]\n"
     ]
    }
   ],
   "source": [
    "A = np.array([[1, 1], [0, 1]])\n",
    "B = np.array([[2, 0], [3, 4]])\n",
    "\n",
    "add = A + B\n",
    "print(\"Addition: \", add)\n",
    "sub = A - B\n",
    "print(\"Subtraction: \", sub)\n",
    "\n",
    "print(np.add(A, B))\n",
    "print(np.subtract(A, B))\n",
    "print(np.multiply(A, B))\n",
    "print(np.power(A, 2))\n",
    "print(np.abs(A))\n"
   ]
  },
  {
   "cell_type": "code",
   "execution_count": 8,
   "metadata": {},
   "outputs": [
    {
     "name": "stdout",
     "output_type": "stream",
     "text": [
      "[ 0  0  0  0  0  0  0  0  0  0  0 10 10 10 10 10 10 10 10 10]\n"
     ]
    },
    {
     "data": {
      "text/plain": [
       "array([0.00000e+00, 2.50000e-01, 1.00000e+00, 2.25000e+00, 4.00000e+00,\n",
       "       6.25000e+00, 0.00000e+00, 0.00000e+00, 0.00000e+00, 0.00000e+00,\n",
       "       0.00000e+00, 0.00000e+00, 0.00000e+00, 0.00000e+00, 0.00000e+00,\n",
       "       0.00000e+00, 0.00000e+00, 6.14125e+02, 7.29000e+02, 8.57375e+02])"
      ]
     },
     "execution_count": 8,
     "metadata": {},
     "output_type": "execute_result"
    }
   ],
   "source": [
    "x = np.arange(0, 10, 0.5)\n",
    "\n",
    "print(np.where(x > 5, 10, 0))\n",
    "\n",
    "condition_list = [x < 3, x > 8]\n",
    "choice_list = [x**2, x**3]\n",
    "\n",
    "np.select(condition_list, choice_list)"
   ]
  },
  {
   "cell_type": "code",
   "execution_count": 9,
   "metadata": {},
   "outputs": [
    {
     "name": "stdout",
     "output_type": "stream",
     "text": [
      "[ 1  2  3  4  5  6  7  8  9 10 11 12]\n",
      "[[[ 1  2  3]\n",
      "  [ 4  5  6]]\n",
      "\n",
      " [[ 7  8  9]\n",
      "  [10 11 12]]]\n",
      "Minimum:  1\n",
      "Minimum row:  [[1 2 3]\n",
      " [7 8 9]]\n",
      "Median:  [[ 2.5  3.5  4.5]\n",
      " [ 8.5  9.5 10.5]]\n",
      "Standard Deviation:  [[1.5 1.5 1.5]\n",
      " [1.5 1.5 1.5]]\n"
     ]
    }
   ],
   "source": [
    "temp = np.array([x for x in range(1, 13)])\n",
    "print(temp)\n",
    "temp = temp.reshape(2, 2, 3)\n",
    "print(temp)\n",
    "\n",
    "mini = np.min(temp)\n",
    "print(\"Minimum: \", mini)\n",
    "\n",
    "min_row = np.min(temp, axis=1)\n",
    "print(\"Minimum row: \", min_row)\n",
    "\n",
    "median = np.median(temp, axis=1)\n",
    "print(\"Median: \", median)\n",
    "\n",
    "standard_dev = np.std(temp, axis=1)\n",
    "print(\"Standard Deviation: \", standard_dev)\n",
    "\n"
   ]
  },
  {
   "cell_type": "code",
   "execution_count": 10,
   "metadata": {},
   "outputs": [
    {
     "name": "stdout",
     "output_type": "stream",
     "text": [
      "1\n",
      "[2 3 4 5]\n",
      "[2 4]\n",
      "[1 3 5 7 9]\n",
      "[10  9  8  7  6  5  4  3  2  1]\n",
      "10\n",
      "[8 9]\n",
      "[8]\n",
      "1\n",
      "[2 3]\n",
      "[2]\n",
      "[1 3]\n",
      "[[1 2 3]\n",
      " [4 5 6]\n",
      " [7 8 9]]\n"
     ]
    }
   ],
   "source": [
    "# Indexing and Slicing\n",
    "\n",
    "array_1d = np.array([1, 2, 3, 4, 5, 6, 7, 8, 9, 10])\n",
    "array_2d = np.array([[1, 2, 3], [4, 5, 6], [7, 8, 9]])\n",
    "array_3d = np.array([[[1, 2, 3], [4, 5, 6], [7, 8, 9]], [[10, 11, 12], [13, 14, 15], [16, 17, 18]]])\n",
    "\n",
    "print(array_1d[0]) # 1\n",
    "print(array_1d[1:5]) # [2, 3, 4, 5]\n",
    "print(array_1d[1:5:2]) # [2, 4]\n",
    "print(array_1d[::2]) # [1, 3, 5, 7, 9]\n",
    "print(array_1d[::-1]) # [10, 9, 8, 7, 6, 5, 4, 3, 2, 1]\n",
    "print(array_1d[-1]) # 10\n",
    "print(array_1d[-3:-1]) # [8, 9]\n",
    "print(array_1d[-3:-1:2]) # [8]\n",
    "\n",
    "\n",
    "print(array_2d[0, 0]) # 1\n",
    "print(array_2d[0, 1:3]) # [2, 3]\n",
    "print(array_2d[0, 1:3:2]) # [2]\n",
    "print(array_2d[0, ::2]) # [1, 3]\n",
    "\n",
    "\n",
    "print(array_3d[0, 0:, 0:]) # [[1, 2, 3], [4, 5, 6], [7, 8, 9]]"
   ]
  }
 ],
 "metadata": {
  "kernelspec": {
   "display_name": "Python 3",
   "language": "python",
   "name": "python3"
  },
  "language_info": {
   "codemirror_mode": {
    "name": "ipython",
    "version": 3
   },
   "file_extension": ".py",
   "mimetype": "text/x-python",
   "name": "python",
   "nbconvert_exporter": "python",
   "pygments_lexer": "ipython3",
   "version": "3.10.6"
  },
  "orig_nbformat": 4,
  "vscode": {
   "interpreter": {
    "hash": "916dbcbb3f70747c44a77c7bcd40155683ae19c65e1c03b4aa3499c5328201f1"
   }
  }
 },
 "nbformat": 4,
 "nbformat_minor": 2
}
